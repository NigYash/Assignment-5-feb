{
 "cells": [
  {
   "attachments": {},
   "cell_type": "markdown",
   "metadata": {},
   "source": [
    "Q1: Explain  Class and object with respect to OOPS. Give examle.\n",
    "\n",
    "\n",
    "A1: A class is a collection of object and object is the instance of class possesing attributes.\n",
    "A class is a blueprint from which objects are created.\n",
    "\n",
    "Example\n",
    "Student()=student1\n",
    "Student()=student2\n",
    "Student()=student3\n",
    "\n",
    "\n",
    "Student() is the class and student1, student2, student3 are the objects.\n",
    "\n"
   ]
  },
  {
   "cell_type": "markdown",
   "metadata": {},
   "source": []
  },
  {
   "attachments": {},
   "cell_type": "markdown",
   "metadata": {},
   "source": [
    "Q2: Namte the four pillars of OOPs?\n",
    "\n",
    "A2: 1- Inheritance\n",
    "\n",
    "2-Polymorphism\n",
    "\n",
    "3-Encapsulation\n",
    "\n",
    "4-Abstraction"
   ]
  },
  {
   "attachments": {},
   "cell_type": "markdown",
   "metadata": {},
   "source": [
    "Q3: Explain why the __init__()function is used. Give an example.\n",
    "\n",
    "A3: It is also known as constructor. It is used to assign the values to variables of data members of a class when an object is created.\n",
    "\n",
    "def__init__(self):"
   ]
  },
  {
   "attachments": {},
   "cell_type": "markdown",
   "metadata": {},
   "source": [
    "Q4: Why self is used in oops?\n",
    "\n",
    "A4 : Self keyword is used to assign a value to a constructor. Andit is used in method to refer to the instance of current class we are using."
   ]
  },
  {
   "attachments": {},
   "cell_type": "markdown",
   "metadata": {},
   "source": [
    "Q5: What is inheritance? \n",
    "\n",
    "A5: It is the ability to define a new class (child class) that is a modified version of an existing class(parent class).\n",
    "\n",
    "Single inheritance\n",
    "\n",
    "class Animal:\n",
    "    def speak(self):\n",
    "        print(\"Animal speaking\")\n",
    "\n",
    "class Dog(Animal):\n",
    "    def bark(self):\n",
    "        print(\"Woof!\")\n",
    "\n",
    "my_dog = Dog()\n",
    "my_dog.speak() # Output: \"Animal speaking\"\n",
    "my_dog.bark() # Output: \"Woof!\"\n",
    "\n",
    "\n",
    "Multiple inheritance\n",
    "\n",
    "class A:\n",
    "    def method(self):\n",
    "        print(\"A\")\n",
    "\n",
    "class B:\n",
    "    def method(self):\n",
    "        print(\"B\")\n",
    "\n",
    "class C(A, B):\n",
    "    pass\n",
    "\n",
    "obj = C()\n",
    "obj.method() # Output: \"A\"\n",
    "\n",
    "Multilevel inheritance\n",
    "\n",
    "class Animal:\n",
    "    def speak(self):\n",
    "        print(\"Animal speaking\")\n",
    "\n",
    "class Dog(Animal):\n",
    "    def bark(self):\n",
    "        print(\"Woof!\")\n",
    "\n",
    "class GoldenRetriever(Dog):\n",
    "    def fetch(self):\n",
    "        print(\"Fetching...\")\n",
    "\n",
    "my_dog = GoldenRetriever()\n",
    "my_dog.speak() # Output: \"Animal speaking\"\n",
    "my_dog.bark() # Output: \"Woof!\"\n",
    "my_dog.fetch() # Output: \"Fetching...\"\n",
    "\n",
    "\n",
    "\n",
    "\n",
    "\n"
   ]
  },
  {
   "cell_type": "markdown",
   "metadata": {},
   "source": []
  }
 ],
 "metadata": {
  "kernelspec": {
   "display_name": "Python 3",
   "language": "python",
   "name": "python3"
  },
  "language_info": {
   "codemirror_mode": {
    "name": "ipython",
    "version": 3
   },
   "file_extension": ".py",
   "mimetype": "text/x-python",
   "name": "python",
   "nbconvert_exporter": "python",
   "pygments_lexer": "ipython3",
   "version": "3.9.10"
  },
  "orig_nbformat": 4
 },
 "nbformat": 4,
 "nbformat_minor": 2
}
